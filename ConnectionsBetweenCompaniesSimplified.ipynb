{
  "nbformat": 4,
  "nbformat_minor": 0,
  "metadata": {
    "colab": {
      "provenance": []
    },
    "kernelspec": {
      "name": "python3",
      "display_name": "Python 3"
    },
    "language_info": {
      "name": "python"
    }
  },
  "cells": [
    {
      "cell_type": "markdown",
      "source": [
        "#Finding Connections using Related Companies API"
      ],
      "metadata": {
        "id": "erdtIJbnDCQE"
      }
    },
    {
      "cell_type": "code",
      "source": [
        "!pip install polygon-api-client"
      ],
      "metadata": {
        "colab": {
          "base_uri": "https://localhost:8080/"
        },
        "id": "l68vtbRoD72c",
        "outputId": "6dc9fcc6-d43a-4cb4-f29f-03f970a9ba8b"
      },
      "execution_count": 9,
      "outputs": [
        {
          "output_type": "stream",
          "name": "stdout",
          "text": [
            "Requirement already satisfied: polygon-api-client in /usr/local/lib/python3.10/dist-packages (1.14.3)\n",
            "Requirement already satisfied: certifi<2026.0.0,>=2022.5.18 in /usr/local/lib/python3.10/dist-packages (from polygon-api-client) (2024.12.14)\n",
            "Requirement already satisfied: urllib3<3.0.0,>=1.26.9 in /usr/local/lib/python3.10/dist-packages (from polygon-api-client) (2.3.0)\n",
            "Requirement already satisfied: websockets<15.0,>=10.3 in /usr/local/lib/python3.10/dist-packages (from polygon-api-client) (14.1)\n"
          ]
        }
      ]
    },
    {
      "cell_type": "code",
      "execution_count": 10,
      "metadata": {
        "id": "dEr3BgjwC16x"
      },
      "outputs": [],
      "source": [
        "from polygon import RESTClient"
      ]
    },
    {
      "cell_type": "markdown",
      "source": [
        "###Behind the scenes, it is checking that how often the below companies are talked together in news articles and financial data and then calculate a ranking"
      ],
      "metadata": {
        "id": "z1j-hUsHEkjT"
      }
    },
    {
      "cell_type": "code",
      "source": [
        "client = RESTClient(\"pxWflHxcMwNIOMGI5JR3toxQGCkwpjYA\")\n",
        "\n",
        "related_companies = client.get_related_companies(\"AAPL\")\n",
        "print(related_companies)"
      ],
      "metadata": {
        "colab": {
          "base_uri": "https://localhost:8080/"
        },
        "id": "wUX4YUvAD1B_",
        "outputId": "e2db6aaf-05aa-421b-9198-2cbacf83fc31"
      },
      "execution_count": 11,
      "outputs": [
        {
          "output_type": "stream",
          "name": "stdout",
          "text": [
            "[RelatedCompany(ticker='MSFT'), RelatedCompany(ticker='GOOGL'), RelatedCompany(ticker='AMZN'), RelatedCompany(ticker='GOOG'), RelatedCompany(ticker='NVDA'), RelatedCompany(ticker='TSLA'), RelatedCompany(ticker='META'), RelatedCompany(ticker='NFLX'), RelatedCompany(ticker='DIS'), RelatedCompany(ticker='BRK.B')]\n"
          ]
        }
      ]
    },
    {
      "cell_type": "markdown",
      "source": [
        "#Visualizing Related Companies"
      ],
      "metadata": {
        "id": "IP_Hy5auE6b7"
      }
    },
    {
      "cell_type": "markdown",
      "source": [
        "###Here top 7 or Magnificient 7 companies are visulized"
      ],
      "metadata": {
        "id": "unQUS7-FFM5M"
      }
    },
    {
      "cell_type": "code",
      "source": [
        "from polygon import RESTClient\n",
        "import json\n",
        "# from requests.adapters import HTTPAdapter\n",
        "# from urllib3.util.retry import Retry\n",
        "\n",
        "\n",
        "# session = requests.Session()\n",
        "# retry = Retry(connect=3, backoff_factor=0.5)\n",
        "# adapter = HTTPAdapter(max_retries=retry)\n",
        "# session.mount('http://', adapter)\n",
        "# session.mount('https://', adapter)\n",
        "\n",
        "# session.get(url)\n",
        "\n",
        "def get_related_tickers():\n",
        "  client = RESTClient(\"pxWflHxcMwNIOMGI5JR3toxQGCkwpjYA\", trace=True)\n",
        "\n",
        "  main_tickers = [\"MSFT\", \"AMZN\", \"META\", \"AAPL\", \"GOOG\", \"NVDA\", \"TSLA\", \"HCP\", \"GME\", \"DIS\"]\n",
        "\n",
        "  #Preparing data structures for nodes and edges\n",
        "  nodes = []\n",
        "  edges = []\n",
        "  id_map = {}\n",
        "  current_id = 1\n",
        "\n",
        "  #Iterating over each main ticker and finding related tickers\n",
        "  for ticker in main_tickers:\n",
        "    #  response = fetch_data_for_ticker(ticker)\n",
        "    #     process_response(response)\n",
        "    #     time.sleep(1)\n",
        "    if ticker in id_map:\n",
        "      continue\n",
        "    if ticker not in id_map:\n",
        "      id_map[ticker] = current_id\n",
        "      nodes.append({'id' : current_id, 'label' : ticker})\n",
        "      current_id += 1\n",
        "\n",
        "    related_companies = client.get_related_companies(ticker)\n",
        "    for company in related_companies:\n",
        "      related_ticker = company.ticker\n",
        "      if related_ticker not in id_map:\n",
        "        id_map[related_ticker] = current_id\n",
        "        nodes.append({'id' : current_id, 'label' : related_ticker})\n",
        "        current_id += 1\n",
        "      edges.append({'from' : id_map[ticker], 'to' : id_map[related_ticker]})\n",
        "\n",
        "  with open('data.json', 'w') as f:\n",
        "    json.dump({'nodes' : nodes, 'edges' : edges}, f)\n",
        "\n",
        "if __name__ == '__main__':\n",
        "  get_related_tickers()"
      ],
      "metadata": {
        "colab": {
          "base_uri": "https://localhost:8080/"
        },
        "id": "6E-1oCMSER-j",
        "outputId": "84bf13ed-69e4-4ee2-cf0b-b028a549b8e0"
      },
      "execution_count": 16,
      "outputs": [
        {
          "output_type": "stream",
          "name": "stdout",
          "text": [
            "Request URL: https://api.polygon.io/v1/related-companies/MSFT?ticker=MSFT\n",
            "Request Headers: {'Authorization': 'Bearer REDACTED', 'Accept-Encoding': 'gzip', 'User-Agent': 'Polygon.io PythonClient/1.14.3'}\n",
            "Response Headers: {'Date': 'Sat, 11 Jan 2025 11:45:48 GMT', 'Content-Type': 'application/json', 'Content-Length': '164', 'Connection': 'keep-alive', 'Content-Encoding': 'gzip', 'Vary': 'Accept-Encoding', 'X-Polygon-Cluster-Name': 'polygon-ny5', 'X-Request-Id': '98a39b543c33cead64541678328a1c44', 'Strict-Transport-Security': 'max-age=15724800; includeSubDomains'}\n",
            "Request URL: https://api.polygon.io/v1/related-companies/HCP?ticker=HCP\n",
            "Request Headers: {'Authorization': 'Bearer REDACTED', 'Accept-Encoding': 'gzip', 'User-Agent': 'Polygon.io PythonClient/1.14.3'}\n",
            "Response Headers: {'Date': 'Sat, 11 Jan 2025 11:45:48 GMT', 'Content-Type': 'application/json', 'Content-Length': '167', 'Connection': 'keep-alive', 'Content-Encoding': 'gzip', 'Vary': 'Accept-Encoding', 'X-Polygon-Cluster-Name': 'polygon-ny5', 'X-Request-Id': 'eaa9f718ac525f6e5d7acb3e72161498', 'Strict-Transport-Security': 'max-age=15724800; includeSubDomains'}\n",
            "Request URL: https://api.polygon.io/v1/related-companies/GME?ticker=GME\n",
            "Request Headers: {'Authorization': 'Bearer REDACTED', 'Accept-Encoding': 'gzip', 'User-Agent': 'Polygon.io PythonClient/1.14.3'}\n",
            "Response Headers: {'Date': 'Sat, 11 Jan 2025 11:45:48 GMT', 'Content-Type': 'application/json', 'Content-Length': '168', 'Connection': 'keep-alive', 'Content-Encoding': 'gzip', 'Vary': 'Accept-Encoding', 'X-Polygon-Cluster-Name': 'polygon-ny5', 'X-Request-Id': '1163cc47fd18149a9fa6a1c730149a98', 'Strict-Transport-Security': 'max-age=15724800; includeSubDomains'}\n",
            "Request URL: https://api.polygon.io/v1/related-companies/DIS?ticker=DIS\n",
            "Request Headers: {'Authorization': 'Bearer REDACTED', 'Accept-Encoding': 'gzip', 'User-Agent': 'Polygon.io PythonClient/1.14.3'}\n",
            "Response Headers: {'Date': 'Sat, 11 Jan 2025 11:45:48 GMT', 'Content-Type': 'application/json', 'Content-Length': '166', 'Connection': 'keep-alive', 'Content-Encoding': 'gzip', 'Vary': 'Accept-Encoding', 'X-Polygon-Cluster-Name': 'polygon-ny5', 'X-Request-Id': 'e23577749642a15cac6864a23dc4ffbc', 'Strict-Transport-Security': 'max-age=15724800; includeSubDomains'}\n"
          ]
        }
      ]
    },
    {
      "cell_type": "markdown",
      "source": [
        "###The nodes and the edges have been pasted into the visulization.html and using vis.js, a knowledge graph is created which shows related companies"
      ],
      "metadata": {
        "id": "pFFJIUWKR8mt"
      }
    },
    {
      "cell_type": "markdown",
      "source": [
        "####Just copy paste the code into an online html renderer"
      ],
      "metadata": {
        "id": "wygc4CWYSUvd"
      }
    },
    {
      "cell_type": "code",
      "source": [
        "\n",
        "\n"
      ],
      "metadata": {
        "id": "lgeO1A5fIcoK"
      },
      "execution_count": null,
      "outputs": []
    },
    {
      "cell_type": "code",
      "source": [],
      "metadata": {
        "id": "SZ6JY3GEN1mi"
      },
      "execution_count": null,
      "outputs": []
    }
  ]
}